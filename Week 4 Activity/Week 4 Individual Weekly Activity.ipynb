{
 "cells": [
  {
   "cell_type": "code",
   "execution_count": 18,
   "id": "67d7fb35",
   "metadata": {},
   "outputs": [
    {
     "data": {
      "text/plain": [
       "True"
      ]
     },
     "execution_count": 18,
     "metadata": {},
     "output_type": "execute_result"
    }
   ],
   "source": [
    "import os\n",
    "os.chdir(r\"C:\\Users\\TYC\\Documents\\Year 2 Sem 3 Resources\\MP\\Tutorial Notes\\Week 4\") #remember to change directory sir\n",
    "\n",
    "from IPython.core.interactiveshell import InteractiveShell\n",
    "InteractiveShell.ast_node_interactivity=\"all\"\n",
    "\n",
    "import sys\n",
    "# Python 3.7 is required\n",
    "assert sys.version_info >= (3,7)\n",
    "\n",
    "import cv2 as cv\n",
    "import numpy as np\n",
    "\n",
    "# For reproducibility,\n",
    "np.random.seed(99)\n",
    "\n",
    "# Make sure that optimization is enabled\n",
    "if not cv.useOptimized():\n",
    "    cv.setUseOptimized(True)\n",
    "\n",
    "cv.useOptimized()"
   ]
  },
  {
   "cell_type": "markdown",
   "id": "7eb03f07",
   "metadata": {},
   "source": [
    "### 1. Suggest two ways and write codes to display two images simultaneously. You can use any image snapped from your handphone, downloaded from internet or images from week 4 materials on MS teams. The two images are a color image and its corresponding grayscale image."
   ]
  },
  {
   "cell_type": "code",
   "execution_count": 19,
   "id": "0efa2009",
   "metadata": {},
   "outputs": [
    {
     "data": {
      "text/plain": [
       "27"
      ]
     },
     "execution_count": 19,
     "metadata": {},
     "output_type": "execute_result"
    }
   ],
   "source": [
    "#Method 1: \n",
    "img1 = cv.imread('girl.png')\n",
    "img2 = cv.imread('cat.png')\n",
    "\n",
    "cv.imshow('girl',img1)\n",
    "cv.imshow('cat',img2)\n",
    "cv.waitKey(0)\n",
    "cv.destroyAllWindows()\n"
   ]
  },
  {
   "cell_type": "code",
   "execution_count": 20,
   "id": "eaf50945",
   "metadata": {},
   "outputs": [
    {
     "data": {
      "text/plain": [
       "27"
      ]
     },
     "execution_count": 20,
     "metadata": {},
     "output_type": "execute_result"
    }
   ],
   "source": [
    "#Method 2: \n",
    "img1 = cv.imread('girl.png')\n",
    "img2 = cv.imread('cat.png')\n",
    "img2 = cv.resize(img2, (img1.shape[1], img1.shape[0]), interpolation = cv.INTER_LINEAR)\n",
    "\n",
    "img3=np.concatenate((img1,img2),axis=1)\n",
    "cv.imshow('girl cat',img3)\n",
    "cv.waitKey(0)\n",
    "cv.destroyAllWindows()"
   ]
  },
  {
   "cell_type": "markdown",
   "id": "f71948a7",
   "metadata": {},
   "source": [
    "### 2. Write codes that performs the following:\n",
    "### - Load the video “img_pexels.mp4” into the Python environment and display the videos with smaller frames. You can specify an arbitrary frame rate.\n",
    "### - Save it as a separate files: “smaller_img_pexels.avi”"
   ]
  },
  {
   "cell_type": "code",
   "execution_count": 21,
   "id": "beadcf2d",
   "metadata": {
    "scrolled": true
   },
   "outputs": [],
   "source": [
    "cap = cv.VideoCapture('img_pexels.mp4')\n",
    "\n",
    "# Define the codec and create VideoWriter object\n",
    "width = int(cap.get(cv.CAP_PROP_FRAME_WIDTH)/2) \n",
    "height = int(cap.get(cv.CAP_PROP_FRAME_HEIGHT)/2)\n",
    "fourcc = cv.VideoWriter_fourcc('M', 'J', 'P', 'G')\n",
    "fps = 60\n",
    "out = cv.VideoWriter('smaller_img_pexels.avi', fourcc, fps, (width, height))\n",
    "\n",
    "while cap.isOpened():\n",
    "    ret, frame = cap.read()\n",
    "    if not ret:\n",
    "        print(\"Can't receive frame (streaming end)\")\n",
    "        break\n",
    "    \n",
    "    #resize frame\n",
    "    frame = cv.resize(frame, (width, height))\n",
    "\n",
    "    #write frame\n",
    "    out.write(frame)\n",
    "\n",
    "    #cv.namedWindow('frame',cv.WINDOW_NORMAL)\n",
    "    cv.imshow('frame', frame)\n",
    "    if cv.waitKey(1) & 0xFF == 27:\n",
    "        break\n",
    "\n",
    "# Release everything if job is finished\n",
    "cap.release()\n",
    "out.release()\n",
    "cv.destroyAllWindows()"
   ]
  },
  {
   "cell_type": "markdown",
   "id": "828a1edb",
   "metadata": {},
   "source": [
    "### 3. Create a random noise color and grayscale image. You can set a custom width and height. (Hint: use Numpy functions like np.array and np.reshape.)\n"
   ]
  },
  {
   "cell_type": "code",
   "execution_count": 23,
   "id": "9871eb0a",
   "metadata": {},
   "outputs": [
    {
     "data": {
      "text/plain": [
       "27"
      ]
     },
     "execution_count": 23,
     "metadata": {},
     "output_type": "execute_result"
    }
   ],
   "source": [
    "noise = np.random.randint(256, size=(500, 1000)).astype('uint8')\n",
    "cv.imshow('noise',noise)\n",
    "cv.waitKey(0)\n",
    "cv.destroyAllWindows()"
   ]
  }
 ],
 "metadata": {
  "kernelspec": {
   "display_name": "Python 3 (ipykernel)",
   "language": "python",
   "name": "python3"
  },
  "language_info": {
   "codemirror_mode": {
    "name": "ipython",
    "version": 3
   },
   "file_extension": ".py",
   "mimetype": "text/x-python",
   "name": "python",
   "nbconvert_exporter": "python",
   "pygments_lexer": "ipython3",
   "version": "3.9.12"
  }
 },
 "nbformat": 4,
 "nbformat_minor": 5
}
