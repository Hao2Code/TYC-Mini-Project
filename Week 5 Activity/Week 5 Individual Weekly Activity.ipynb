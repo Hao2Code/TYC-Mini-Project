{
 "cells": [
  {
   "cell_type": "code",
   "execution_count": 169,
   "id": "cfb67714",
   "metadata": {},
   "outputs": [
    {
     "data": {
      "text/plain": [
       "True"
      ]
     },
     "execution_count": 169,
     "metadata": {},
     "output_type": "execute_result"
    }
   ],
   "source": [
    "import os\n",
    "os.chdir(r\"C:\\Users\\TYC\\Documents\\Year 2 Sem 3 Resources\\MP\\Tutorial Notes\\Week 5\")\n",
    "\n",
    "import sys\n",
    "# Python 3.7 is required\n",
    "assert sys.version_info >= (3,7)\n",
    "\n",
    "import cv2 as cv\n",
    "import numpy as np\n",
    "\n",
    "# Make sure that optimization is enabled\n",
    "if not cv.useOptimized():\n",
    "    cv.setUseOptimized(True)\n",
    "\n",
    "cv.useOptimized()"
   ]
  },
  {
   "cell_type": "markdown",
   "id": "1a0b9001",
   "metadata": {},
   "source": [
    "# Q1"
   ]
  },
  {
   "cell_type": "code",
   "execution_count": 170,
   "id": "6af92db2",
   "metadata": {},
   "outputs": [],
   "source": [
    "def crop_grid(img, num_horizontal_grid, num_vertical_grid, line_color):\n",
    "    img_copy = img.copy()\n",
    "    height, width = img.shape[:2]\n",
    "\n",
    "    # M and N are basically number of pixels per patch\n",
    "    M, N = int(height/num_horizontal_grid), int(width/num_vertical_grid)\n",
    "\n",
    "    x1, y1 = 0, 0\n",
    "\n",
    "    for y in range(0, height, M):\n",
    "        for x in range(0, width, N):\n",
    "    #         if (height - y) < M or (width - x) < N:\n",
    "    #             break\n",
    "\n",
    "            y1 = y + M    # lower right coordinate that will be used to construct rectangle\n",
    "            x1 = x + N\n",
    "\n",
    "            # Check whether patch lower right coordinate exceeds image height and width\n",
    "            if x1 >= width and y1 >= height:\n",
    "                x1 = width - 1\n",
    "                y1 = height - 1\n",
    "                tile = img[y:height, x:width]\n",
    "                cv.rectangle(img_copy, (x, y), (x1, y1), line_color, 1)\n",
    "            # When patch lower right y-coordinate exceeds patch height\n",
    "            elif y1 >= height:\n",
    "                y1 = height - 1\n",
    "                cv.rectangle(img_copy, (x, y), (x1, y1), line_color, 1)\n",
    "\n",
    "            # When patch lower right x-coordinate exceeds patch width\n",
    "            elif x1 >= width:\n",
    "                x1 = width - 1\n",
    "                cv.rectangle(img_copy, (x, y), (x1, y1), line_color, 1)\n",
    "\n",
    "            else:\n",
    "                cv.rectangle(img_copy, (x, y), (x1, y1), line_color, 1)\n",
    "\n",
    "    cv.imshow('patched image', img_copy)\n",
    "    cv.waitKey(0)\n",
    "    cv.destroyAllWindows()\n",
    "\n",
    "#running the function\n",
    "img = cv.imread('dog.jfif')\n",
    "crop_grid(img, 2, 3, (0, 255, 0))"
   ]
  },
  {
   "cell_type": "markdown",
   "id": "2108ad7a",
   "metadata": {},
   "source": [
    "# Q2"
   ]
  },
  {
   "cell_type": "code",
   "execution_count": 171,
   "id": "19e62354",
   "metadata": {},
   "outputs": [],
   "source": [
    "#Display image sequences of smooth transition of two images with different values of α. Refer to code in section \"Image blending\". Use \"lena.jfif\" and \"coins.jfif\" as the base images.\n",
    "import matplotlib.pyplot as plt\n",
    "\n",
    "img1 = cv.imread('lena.jfif')\n",
    "img2 = cv.imread('coins.jfif')\n",
    "new_shape = img1.shape[:2]\n",
    "img2 = cv.resize(img2, new_shape)\n",
    "\n",
    "new_img1=img1.copy()\n",
    "new_img2=img2.copy()\n",
    "new_img1=cv.cvtColor(new_img1, cv.COLOR_BGR2RGB)\n",
    "new_img2=cv.cvtColor(new_img2, cv.COLOR_BGR2RGB)\n",
    "\n",
    "img1=np.concatenate((img1,new_img1),axis=1)\n",
    "img2=np.concatenate((img2,new_img2),axis=1)\n",
    "\n",
    "img1=np.concatenate((img1,img2))\n",
    "\n",
    "img1=cv.imshow('transition', img1)\n",
    "cv.waitKey(0)\n",
    "cv.destroyAllWindows()"
   ]
  },
  {
   "cell_type": "markdown",
   "id": "3c92a877",
   "metadata": {},
   "source": [
    "# Q3"
   ]
  },
  {
   "cell_type": "code",
   "execution_count": 172,
   "id": "cc45b734",
   "metadata": {
    "scrolled": true
   },
   "outputs": [],
   "source": [
    "import imutils\n",
    "\n",
    "img = cv.imread('lena.jfif')\n",
    "\n",
    "rotated = imutils.rotate(img, 45, scale=2**0.5)\n",
    "cv.imshow(\"45 degree angle\", rotated)\n",
    "\n",
    "cv.waitKey(0)\n",
    "cv.destroyAllWindows()"
   ]
  },
  {
   "cell_type": "markdown",
   "id": "b1becd0b",
   "metadata": {},
   "source": [
    "# Q4"
   ]
  },
  {
   "cell_type": "code",
   "execution_count": 173,
   "id": "ff3ef13b",
   "metadata": {},
   "outputs": [],
   "source": [
    "bee=cv.imread('native-bee.png')\n",
    "flower=cv.imread('flower.jfif')\n",
    "\n",
    "flower=flower[40:120,90:175]\n",
    "x, y=  90, 50\n",
    "height, width = flower.shape[:2]\n",
    "\n",
    "mask = cv.threshold(flower,80,255,cv.THRESH_BINARY_INV)[1]\n",
    "bee[y:y+height,x:x+width]=cv.bitwise_and(bee[y:y+height,x:x+width],mask)\n",
    "bee[y:y+height,x:x+width]=cv.bitwise_or(bee[y:y+height,x:x+width],flower)\n",
    "\n",
    "cv.imshow('bee',bee)\n",
    "cv.waitKey(0)\n",
    "cv.destroyAllWindows()"
   ]
  }
 ],
 "metadata": {
  "kernelspec": {
   "display_name": "Python 3 (ipykernel)",
   "language": "python",
   "name": "python3"
  },
  "language_info": {
   "codemirror_mode": {
    "name": "ipython",
    "version": 3
   },
   "file_extension": ".py",
   "mimetype": "text/x-python",
   "name": "python",
   "nbconvert_exporter": "python",
   "pygments_lexer": "ipython3",
   "version": "3.9.12"
  }
 },
 "nbformat": 4,
 "nbformat_minor": 5
}
